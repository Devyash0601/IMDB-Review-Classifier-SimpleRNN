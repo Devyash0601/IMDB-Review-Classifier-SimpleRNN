{
 "cells": [
  {
   "cell_type": "code",
   "execution_count": 2,
   "metadata": {},
   "outputs": [],
   "source": [
    "# Step 1: Import Libraries and Load the Model\n",
    "import numpy as np\n",
    "import tensorflow as tf\n",
    "from tensorflow.keras.datasets import imdb\n",
    "from tensorflow.keras.preprocessing import sequence\n",
    "from tensorflow.keras.models import load_model"
   ]
  },
  {
   "cell_type": "code",
   "execution_count": 3,
   "metadata": {},
   "outputs": [],
   "source": [
    "\n",
    "# Load the IMDB dataset word index\n",
    "word_index = imdb.get_word_index()\n",
    "reverse_word_index = {value: key for key, value in word_index.items()}"
   ]
  },
  {
   "cell_type": "code",
   "execution_count": 4,
   "metadata": {},
   "outputs": [
    {
     "name": "stderr",
     "output_type": "stream",
     "text": [
      "WARNING:absl:Compiled the loaded model, but the compiled metrics have yet to be built. `model.compile_metrics` will be empty until you train or evaluate the model.\n"
     ]
    },
    {
     "data": {
      "text/html": [
       "<pre style=\"white-space:pre;overflow-x:auto;line-height:normal;font-family:Menlo,'DejaVu Sans Mono',consolas,'Courier New',monospace\"><span style=\"font-weight: bold\">Model: \"sequential_3\"</span>\n",
       "</pre>\n"
      ],
      "text/plain": [
       "\u001b[1mModel: \"sequential_3\"\u001b[0m\n"
      ]
     },
     "metadata": {},
     "output_type": "display_data"
    },
    {
     "data": {
      "text/html": [
       "<pre style=\"white-space:pre;overflow-x:auto;line-height:normal;font-family:Menlo,'DejaVu Sans Mono',consolas,'Courier New',monospace\">┏━━━━━━━━━━━━━━━━━━━━━━━━━━━━━━━━━┳━━━━━━━━━━━━━━━━━━━━━━━━┳━━━━━━━━━━━━━━━┓\n",
       "┃<span style=\"font-weight: bold\"> Layer (type)                    </span>┃<span style=\"font-weight: bold\"> Output Shape           </span>┃<span style=\"font-weight: bold\">       Param # </span>┃\n",
       "┡━━━━━━━━━━━━━━━━━━━━━━━━━━━━━━━━━╇━━━━━━━━━━━━━━━━━━━━━━━━╇━━━━━━━━━━━━━━━┩\n",
       "│ embedding_3 (<span style=\"color: #0087ff; text-decoration-color: #0087ff\">Embedding</span>)         │ (<span style=\"color: #00af00; text-decoration-color: #00af00\">32</span>, <span style=\"color: #00af00; text-decoration-color: #00af00\">500</span>, <span style=\"color: #00af00; text-decoration-color: #00af00\">128</span>)         │     <span style=\"color: #00af00; text-decoration-color: #00af00\">1,280,000</span> │\n",
       "├─────────────────────────────────┼────────────────────────┼───────────────┤\n",
       "│ simple_rnn_3 (<span style=\"color: #0087ff; text-decoration-color: #0087ff\">SimpleRNN</span>)        │ (<span style=\"color: #00af00; text-decoration-color: #00af00\">32</span>, <span style=\"color: #00af00; text-decoration-color: #00af00\">128</span>)              │        <span style=\"color: #00af00; text-decoration-color: #00af00\">32,896</span> │\n",
       "├─────────────────────────────────┼────────────────────────┼───────────────┤\n",
       "│ dense_3 (<span style=\"color: #0087ff; text-decoration-color: #0087ff\">Dense</span>)                 │ (<span style=\"color: #00af00; text-decoration-color: #00af00\">32</span>, <span style=\"color: #00af00; text-decoration-color: #00af00\">1</span>)                │           <span style=\"color: #00af00; text-decoration-color: #00af00\">129</span> │\n",
       "└─────────────────────────────────┴────────────────────────┴───────────────┘\n",
       "</pre>\n"
      ],
      "text/plain": [
       "┏━━━━━━━━━━━━━━━━━━━━━━━━━━━━━━━━━┳━━━━━━━━━━━━━━━━━━━━━━━━┳━━━━━━━━━━━━━━━┓\n",
       "┃\u001b[1m \u001b[0m\u001b[1mLayer (type)                   \u001b[0m\u001b[1m \u001b[0m┃\u001b[1m \u001b[0m\u001b[1mOutput Shape          \u001b[0m\u001b[1m \u001b[0m┃\u001b[1m \u001b[0m\u001b[1m      Param #\u001b[0m\u001b[1m \u001b[0m┃\n",
       "┡━━━━━━━━━━━━━━━━━━━━━━━━━━━━━━━━━╇━━━━━━━━━━━━━━━━━━━━━━━━╇━━━━━━━━━━━━━━━┩\n",
       "│ embedding_3 (\u001b[38;5;33mEmbedding\u001b[0m)         │ (\u001b[38;5;34m32\u001b[0m, \u001b[38;5;34m500\u001b[0m, \u001b[38;5;34m128\u001b[0m)         │     \u001b[38;5;34m1,280,000\u001b[0m │\n",
       "├─────────────────────────────────┼────────────────────────┼───────────────┤\n",
       "│ simple_rnn_3 (\u001b[38;5;33mSimpleRNN\u001b[0m)        │ (\u001b[38;5;34m32\u001b[0m, \u001b[38;5;34m128\u001b[0m)              │        \u001b[38;5;34m32,896\u001b[0m │\n",
       "├─────────────────────────────────┼────────────────────────┼───────────────┤\n",
       "│ dense_3 (\u001b[38;5;33mDense\u001b[0m)                 │ (\u001b[38;5;34m32\u001b[0m, \u001b[38;5;34m1\u001b[0m)                │           \u001b[38;5;34m129\u001b[0m │\n",
       "└─────────────────────────────────┴────────────────────────┴───────────────┘\n"
      ]
     },
     "metadata": {},
     "output_type": "display_data"
    },
    {
     "data": {
      "text/html": [
       "<pre style=\"white-space:pre;overflow-x:auto;line-height:normal;font-family:Menlo,'DejaVu Sans Mono',consolas,'Courier New',monospace\"><span style=\"font-weight: bold\"> Total params: </span><span style=\"color: #00af00; text-decoration-color: #00af00\">1,313,027</span> (5.01 MB)\n",
       "</pre>\n"
      ],
      "text/plain": [
       "\u001b[1m Total params: \u001b[0m\u001b[38;5;34m1,313,027\u001b[0m (5.01 MB)\n"
      ]
     },
     "metadata": {},
     "output_type": "display_data"
    },
    {
     "data": {
      "text/html": [
       "<pre style=\"white-space:pre;overflow-x:auto;line-height:normal;font-family:Menlo,'DejaVu Sans Mono',consolas,'Courier New',monospace\"><span style=\"font-weight: bold\"> Trainable params: </span><span style=\"color: #00af00; text-decoration-color: #00af00\">1,313,025</span> (5.01 MB)\n",
       "</pre>\n"
      ],
      "text/plain": [
       "\u001b[1m Trainable params: \u001b[0m\u001b[38;5;34m1,313,025\u001b[0m (5.01 MB)\n"
      ]
     },
     "metadata": {},
     "output_type": "display_data"
    },
    {
     "data": {
      "text/html": [
       "<pre style=\"white-space:pre;overflow-x:auto;line-height:normal;font-family:Menlo,'DejaVu Sans Mono',consolas,'Courier New',monospace\"><span style=\"font-weight: bold\"> Non-trainable params: </span><span style=\"color: #00af00; text-decoration-color: #00af00\">0</span> (0.00 B)\n",
       "</pre>\n"
      ],
      "text/plain": [
       "\u001b[1m Non-trainable params: \u001b[0m\u001b[38;5;34m0\u001b[0m (0.00 B)\n"
      ]
     },
     "metadata": {},
     "output_type": "display_data"
    },
    {
     "data": {
      "text/html": [
       "<pre style=\"white-space:pre;overflow-x:auto;line-height:normal;font-family:Menlo,'DejaVu Sans Mono',consolas,'Courier New',monospace\"><span style=\"font-weight: bold\"> Optimizer params: </span><span style=\"color: #00af00; text-decoration-color: #00af00\">2</span> (12.00 B)\n",
       "</pre>\n"
      ],
      "text/plain": [
       "\u001b[1m Optimizer params: \u001b[0m\u001b[38;5;34m2\u001b[0m (12.00 B)\n"
      ]
     },
     "metadata": {},
     "output_type": "display_data"
    }
   ],
   "source": [
    "# Load the pre-trained model with ReLU activation\n",
    "model = load_model('simpleRNN_imdb.h5')\n",
    "model.summary()"
   ]
  },
  {
   "cell_type": "code",
   "execution_count": 5,
   "metadata": {},
   "outputs": [
    {
     "data": {
      "text/plain": [
       "[array([[-0.48304537,  0.4774614 , -0.36414048, ...,  0.37616602,\n",
       "          0.1296795 , -0.00127868],\n",
       "        [-0.07563882,  0.07642753, -0.02064627, ...,  0.01261775,\n",
       "         -0.02415534,  0.00500791],\n",
       "        [-0.1500697 ,  0.12256078,  0.02349983, ...,  0.13110398,\n",
       "         -0.1056532 , -0.04617193],\n",
       "        ...,\n",
       "        [ 0.01211672, -0.14189781, -0.07204489, ..., -0.05465218,\n",
       "          0.02179155,  0.03653317],\n",
       "        [ 0.08156782, -0.01675609,  0.08464355, ...,  0.04451161,\n",
       "         -0.03861728,  0.01132676],\n",
       "        [ 0.05383765, -0.13686177,  0.03142997, ..., -0.05631512,\n",
       "          0.03190411, -0.06117459]], dtype=float32),\n",
       " array([[ 0.19990742, -0.16809835,  0.05889707, ..., -0.05868862,\n",
       "         -0.03317619,  0.06923545],\n",
       "        [-0.15046015, -0.15959106, -0.16035442, ..., -0.05701141,\n",
       "         -0.00165124,  0.14537618],\n",
       "        [ 0.10882988,  0.03094788,  0.13139702, ..., -0.00583836,\n",
       "          0.14486936,  0.02245496],\n",
       "        ...,\n",
       "        [-0.05193689,  0.03409714, -0.1192136 , ...,  0.065713  ,\n",
       "         -0.13396718,  0.05689251],\n",
       "        [ 0.08556821,  0.03924301, -0.10233172, ...,  0.10377357,\n",
       "         -0.08811969, -0.06150124],\n",
       "        [ 0.12265076, -0.01506785,  0.03459036, ...,  0.08933675,\n",
       "         -0.10890474, -0.039146  ]], dtype=float32),\n",
       " array([[ 0.06731827,  0.05561753,  0.0421366 , ..., -0.04297127,\n",
       "         -0.10876427, -0.11029059],\n",
       "        [ 0.1235325 ,  0.05544357,  0.02024767, ...,  0.00280665,\n",
       "          0.02536816, -0.30577815],\n",
       "        [ 0.07081988,  0.20533384,  0.1823205 , ...,  0.00613114,\n",
       "         -0.06807527,  0.03396636],\n",
       "        ...,\n",
       "        [ 0.11378122, -0.01927662, -0.03470951, ...,  0.00907424,\n",
       "          0.04325018, -0.10573557],\n",
       "        [-0.1233354 ,  0.0209169 ,  0.00997872, ..., -0.00127138,\n",
       "         -0.09687839, -0.08307281],\n",
       "        [ 0.00968216, -0.00828333,  0.0274742 , ..., -0.00679556,\n",
       "          0.12785304, -0.1388917 ]], dtype=float32),\n",
       " array([-0.02991607, -0.0444181 , -0.03494105, -0.06031509, -0.04041157,\n",
       "         0.01960404, -0.00782835,  0.02750438,  0.05604922,  0.01724966,\n",
       "         0.02391995,  0.03987616, -0.03388584,  0.02835648, -0.00156653,\n",
       "         0.04359953, -0.02768591, -0.0532912 , -0.04762925,  0.00360307,\n",
       "         0.00533487, -0.05624745, -0.04125836,  0.01157177, -0.05694299,\n",
       "        -0.04162421,  0.01661574, -0.03465002, -0.02086141, -0.0062839 ,\n",
       "        -0.04243246,  0.01466861, -0.04099121, -0.04954678,  0.06558412,\n",
       "        -0.02705167,  0.02109781, -0.02692425,  0.04378374, -0.01452758,\n",
       "         0.03614186, -0.03281866, -0.02960514, -0.03059309,  0.00504383,\n",
       "        -0.01865946,  0.01273514,  0.01278399, -0.01921028,  0.02360097,\n",
       "        -0.03012471, -0.01172454, -0.02608807, -0.03183475, -0.04509199,\n",
       "        -0.03748782,  0.04213293, -0.00900747,  0.02890279,  0.05934953,\n",
       "         0.00259142,  0.02646167, -0.00310492, -0.01486585, -0.0338599 ,\n",
       "         0.00972338, -0.03488817, -0.05577277, -0.02297655, -0.03750144,\n",
       "        -0.05102878, -0.01604956, -0.06734277,  0.04280359, -0.04113223,\n",
       "        -0.0544022 , -0.01284006, -0.05188055, -0.00159783,  0.0193682 ,\n",
       "        -0.04359189, -0.04338258, -0.03164241, -0.05839583, -0.03658857,\n",
       "        -0.0022488 ,  0.0120752 , -0.00160094, -0.00543634,  0.03837408,\n",
       "         0.02889771,  0.03811922, -0.04769702, -0.04553229,  0.05436283,\n",
       "        -0.03665051, -0.03742495, -0.04876418,  0.01056532,  0.02110603,\n",
       "        -0.04872357,  0.03643126, -0.00336475, -0.00314202, -0.02461412,\n",
       "         0.02862305,  0.01148629, -0.02938746, -0.02063217,  0.00972367,\n",
       "        -0.01214283, -0.00670557, -0.03072817,  0.00752851, -0.0125015 ,\n",
       "         0.03903851,  0.00490931, -0.01488133,  0.02307182, -0.01301503,\n",
       "        -0.03169912, -0.02574877, -0.03002409, -0.00968973, -0.02504031,\n",
       "        -0.00702912, -0.00243971, -0.02530913], dtype=float32),\n",
       " array([[ 0.16972531],\n",
       "        [ 0.01106295],\n",
       "        [ 0.13211304],\n",
       "        [ 0.05819417],\n",
       "        [ 0.02923801],\n",
       "        [ 0.06566276],\n",
       "        [ 0.1365258 ],\n",
       "        [-0.00982443],\n",
       "        [-0.03489617],\n",
       "        [-0.6873558 ],\n",
       "        [ 0.03370603],\n",
       "        [-0.17777973],\n",
       "        [ 0.22252876],\n",
       "        [ 0.759997  ],\n",
       "        [ 0.2073483 ],\n",
       "        [ 0.97258246],\n",
       "        [ 0.12230048],\n",
       "        [-0.02050352],\n",
       "        [ 0.07938164],\n",
       "        [ 0.15374106],\n",
       "        [ 0.07017895],\n",
       "        [ 0.11698554],\n",
       "        [ 0.02033619],\n",
       "        [-0.14020386],\n",
       "        [ 0.40431073],\n",
       "        [ 0.24174088],\n",
       "        [ 0.0940566 ],\n",
       "        [ 0.17915706],\n",
       "        [ 0.08279739],\n",
       "        [-0.01831425],\n",
       "        [ 0.09053428],\n",
       "        [ 0.10692144],\n",
       "        [ 0.2129717 ],\n",
       "        [ 0.13800153],\n",
       "        [-0.19796138],\n",
       "        [ 0.17161755],\n",
       "        [ 0.16164319],\n",
       "        [-0.22729564],\n",
       "        [ 0.15130444],\n",
       "        [ 0.14757346],\n",
       "        [-0.9699335 ],\n",
       "        [ 0.10551523],\n",
       "        [ 0.13157247],\n",
       "        [ 0.10457642],\n",
       "        [-0.18965311],\n",
       "        [ 0.09325887],\n",
       "        [-0.26122472],\n",
       "        [ 0.22261149],\n",
       "        [-0.53902733],\n",
       "        [ 0.6676706 ],\n",
       "        [ 0.21296439],\n",
       "        [-0.13389757],\n",
       "        [ 0.12154614],\n",
       "        [ 0.16193284],\n",
       "        [ 0.2602501 ],\n",
       "        [ 0.09586382],\n",
       "        [-0.10718825],\n",
       "        [ 0.27651554],\n",
       "        [ 0.43895224],\n",
       "        [-0.9618986 ],\n",
       "        [-0.14422233],\n",
       "        [-0.06019732],\n",
       "        [ 0.12074653],\n",
       "        [ 0.20218979],\n",
       "        [-0.34058845],\n",
       "        [ 0.12523411],\n",
       "        [-0.50573933],\n",
       "        [ 0.11346263],\n",
       "        [ 0.06507514],\n",
       "        [ 0.19197133],\n",
       "        [ 0.12815714],\n",
       "        [-0.24707709],\n",
       "        [-0.35123414],\n",
       "        [-0.8949946 ],\n",
       "        [-0.18605836],\n",
       "        [-0.06028561],\n",
       "        [ 0.0824241 ],\n",
       "        [-0.09026172],\n",
       "        [ 0.10971551],\n",
       "        [ 0.07316529],\n",
       "        [-0.03776692],\n",
       "        [-0.7022375 ],\n",
       "        [ 0.07386005],\n",
       "        [ 0.29808918],\n",
       "        [ 0.17890492],\n",
       "        [ 0.1500202 ],\n",
       "        [-0.14595807],\n",
       "        [ 0.08598038],\n",
       "        [-0.2076032 ],\n",
       "        [-0.12282022],\n",
       "        [ 0.06661607],\n",
       "        [-0.11769368],\n",
       "        [ 0.06836218],\n",
       "        [ 0.0891621 ],\n",
       "        [-0.00434492],\n",
       "        [ 0.05156463],\n",
       "        [-0.18716754],\n",
       "        [ 0.18755741],\n",
       "        [ 0.04569124],\n",
       "        [-0.04310213],\n",
       "        [ 0.1157312 ],\n",
       "        [-0.48528498],\n",
       "        [-0.28927618],\n",
       "        [-0.15032642],\n",
       "        [-0.36553553],\n",
       "        [ 0.05773223],\n",
       "        [ 0.11982709],\n",
       "        [ 0.01211393],\n",
       "        [ 0.01181783],\n",
       "        [-0.2509692 ],\n",
       "        [-0.18976814],\n",
       "        [ 0.153876  ],\n",
       "        [ 0.16255355],\n",
       "        [-0.6830155 ],\n",
       "        [-0.10866203],\n",
       "        [ 0.60949683],\n",
       "        [-0.20744367],\n",
       "        [ 0.14201781],\n",
       "        [-0.2897723 ],\n",
       "        [-0.50217927],\n",
       "        [ 0.00122908],\n",
       "        [ 0.16936037],\n",
       "        [ 0.1607237 ],\n",
       "        [ 0.2479331 ],\n",
       "        [ 0.10351687],\n",
       "        [-0.01881672],\n",
       "        [-0.02705838],\n",
       "        [-0.22984047]], dtype=float32),\n",
       " array([0.3618687], dtype=float32)]"
      ]
     },
     "execution_count": 5,
     "metadata": {},
     "output_type": "execute_result"
    }
   ],
   "source": [
    "model.get_weights()"
   ]
  },
  {
   "cell_type": "code",
   "execution_count": 6,
   "metadata": {},
   "outputs": [],
   "source": [
    "# Step 2: Helper Functions\n",
    "# Function to decode reviews\n",
    "def decode_review(encoded_review):\n",
    "    return ' '.join([reverse_word_index.get(i - 3, '?') for i in encoded_review])\n",
    "\n",
    "# Function to preprocess user input\n",
    "def preprocess_text(text):\n",
    "    words = text.lower().split()\n",
    "    encoded_review = [word_index.get(word, 2) + 3 for word in words]\n",
    "    padded_review = sequence.pad_sequences([encoded_review], maxlen=500)\n",
    "    return padded_review"
   ]
  },
  {
   "cell_type": "code",
   "execution_count": 7,
   "metadata": {},
   "outputs": [],
   "source": [
    "### Prediction  function\n",
    "\n",
    "def predict_sentiment(review):\n",
    "    preprocessed_input=preprocess_text(review)\n",
    "\n",
    "    prediction=model.predict(preprocessed_input)\n",
    "\n",
    "    sentiment = 'Positive' if prediction[0][0] > 0.5 else 'Negative'\n",
    "    \n",
    "    return sentiment, prediction[0][0]\n",
    "\n"
   ]
  },
  {
   "cell_type": "code",
   "execution_count": 8,
   "metadata": {},
   "outputs": [
    {
     "name": "stdout",
     "output_type": "stream",
     "text": [
      "\u001b[1m1/1\u001b[0m \u001b[32m━━━━━━━━━━━━━━━━━━━━\u001b[0m\u001b[37m\u001b[0m \u001b[1m0s\u001b[0m 332ms/step\n",
      "Review: This movie was fantastic! The acting was great and the plot was thrilling.\n",
      "Sentiment: Positive\n",
      "Prediction Score: 0.8259800672531128\n"
     ]
    }
   ],
   "source": [
    "# Step 4: User Input and Prediction\n",
    "# Example review for prediction\n",
    "example_review = \"This movie was fantastic! The acting was great and the plot was thrilling.\"\n",
    "\n",
    "sentiment,score=predict_sentiment(example_review)\n",
    "\n",
    "print(f'Review: {example_review}')\n",
    "print(f'Sentiment: {sentiment}')\n",
    "print(f'Prediction Score: {score}')"
   ]
  },
  {
   "cell_type": "code",
   "execution_count": null,
   "metadata": {},
   "outputs": [],
   "source": []
  },
  {
   "cell_type": "code",
   "execution_count": null,
   "metadata": {},
   "outputs": [],
   "source": []
  },
  {
   "cell_type": "code",
   "execution_count": null,
   "metadata": {},
   "outputs": [],
   "source": []
  },
  {
   "cell_type": "code",
   "execution_count": null,
   "metadata": {},
   "outputs": [],
   "source": []
  },
  {
   "cell_type": "code",
   "execution_count": null,
   "metadata": {},
   "outputs": [],
   "source": []
  },
  {
   "cell_type": "code",
   "execution_count": null,
   "metadata": {},
   "outputs": [],
   "source": []
  }
 ],
 "metadata": {
  "kernelspec": {
   "display_name": "aienv",
   "language": "python",
   "name": "python3"
  },
  "language_info": {
   "codemirror_mode": {
    "name": "ipython",
    "version": 3
   },
   "file_extension": ".py",
   "mimetype": "text/x-python",
   "name": "python",
   "nbconvert_exporter": "python",
   "pygments_lexer": "ipython3",
   "version": "3.12.3"
  }
 },
 "nbformat": 4,
 "nbformat_minor": 2
}
